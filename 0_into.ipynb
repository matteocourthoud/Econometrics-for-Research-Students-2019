{
 "cells": [
  {
   "cell_type": "markdown",
   "id": "fde6a27a",
   "metadata": {},
   "source": [
    "# Introduction"
   ]
  },
  {
   "cell_type": "markdown",
   "id": "9d38cff4",
   "metadata": {},
   "source": [
    " - [Why Julia](#Why-Julia)\n",
    " - [Setting up Julia](#Setting-up-Julia)"
   ]
  },
  {
   "cell_type": "markdown",
   "id": "f068f514",
   "metadata": {},
   "source": [
    "## Why Julia"
   ]
  },
  {
   "cell_type": "markdown",
   "id": "414854f4",
   "metadata": {},
   "source": [
    "I use Julia since it's very fast and very readable programming language for matrix algebra. It has a syntax very similar to Matlab, while keeping the speed of C and, most importantly, it is open source."
   ]
  },
  {
   "cell_type": "markdown",
   "id": "94ab3d34",
   "metadata": {},
   "source": [
    "## Setting up Julia"
   ]
  },
  {
   "cell_type": "markdown",
   "id": "5e2d3d88",
   "metadata": {},
   "source": [
    "To set up julia you first need to\n",
    " - [Download Julia](https://julialang.org/)\n",
    " - [Download Atom](https://atom.io/)\n",
    " - [Dowload Juno for Atom](https://junolab.org/)\n",
    " \n",
    "Juno is the best IDE for Julia. It not only provides code highlighting and completion but has also ann integrated interpreter, REPL, and workspace. \n",
    "\n",
    "To install packages on Julia, type in the Juno REPL `using Pkg` and then `Pkd.add(\"packagename\")`.\n",
    "\n",
    "To set Julia as kernel in a jupyter notebook you need to install `IJulia` by typing `Pkd.add(\"IJulia\")`. Now you should see Julia among the possible kernel options on jupyter.\n",
    "\n",
    "If you have updated Julia, just type `Pkg.build(\"IJulia\")` in the REPL."
   ]
  }
 ],
 "metadata": {
  "kernelspec": {
   "display_name": "Julia 1.6.1",
   "language": "julia",
   "name": "julia-1.6"
  },
  "language_info": {
   "file_extension": ".jl",
   "mimetype": "application/julia",
   "name": "julia",
   "version": "1.6.1"
  }
 },
 "nbformat": 4,
 "nbformat_minor": 5
}
